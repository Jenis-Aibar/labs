{
 "cells": [
  {
   "cell_type": "markdown",
   "metadata": {},
   "source": [
    "### Files: CSV format Lecture Notes\n",
    "\n",
    "Download to your PC CSV file \"Annual Enterprise Survey: 2018 Financial Year (Provision)-CSV\" at the following link: https://www.stats.govt.nz/large-datasets/csv-files-for-download/"
   ]
  },
  {
   "cell_type": "code",
   "execution_count": 11,
   "metadata": {},
   "outputs": [],
   "source": [
    "import csv\n",
    "import os"
   ]
  },
  {
   "cell_type": "code",
   "execution_count": 12,
   "metadata": {},
   "outputs": [
    {
     "data": {
      "text/plain": [
       "'c:\\\\Users\\\\Admin\\\\AppData\\\\Roaming\\\\git\\\\labs'"
      ]
     },
     "execution_count": 12,
     "metadata": {},
     "output_type": "execute_result"
    }
   ],
   "source": [
    "os.getcwd()"
   ]
  },
  {
   "cell_type": "code",
   "execution_count": 4,
   "metadata": {},
   "outputs": [
    {
     "data": {
      "text/plain": [
       "['annual-enterprise-survey-2018-financial-year-provisional-csv.csv']"
      ]
     },
     "execution_count": 4,
     "metadata": {},
     "output_type": "execute_result"
    }
   ],
   "source": [
    "[col for col in os.listdir (\"/Users/Admin/AppData/Roaming/git/labs/\") if col.endswith ('.csv')]"
   ]
  },
  {
   "cell_type": "code",
   "execution_count": 18,
   "metadata": {},
   "outputs": [],
   "source": [
    "data = []\n",
    "with open ('c:\\\\Users\\\\Admin\\\\AppData\\\\Roaming\\\\git\\\\labs\\\\annual-enterprise-survey-2018-financial-year-provisional-csv.csv', mode = 'r') as file:\n",
    "    csv_reader = csv.reader (file)\n",
    "    for row in csv_reader:\n",
    "        data.append (row)"
   ]
  },
  {
   "cell_type": "code",
   "execution_count": 33,
   "metadata": {},
   "outputs": [],
   "source": [
    "col_titles = data [:2]"
   ]
  },
  {
   "cell_type": "code",
   "execution_count": 34,
   "metadata": {},
   "outputs": [
    {
     "name": "stdout",
     "output_type": "stream",
     "text": [
      "[['Year', 'Industry_aggregation_NZSIOC', 'Industry_code_NZSIOC', 'Industry_name_NZSIOC', 'Units', 'Variable_code', 'Variable_name', 'Variable_category', 'Value', 'Industry_code_ANZSIC06'], ['2018', 'Level 1', '99999', 'All industries', 'Dollars (millions)', 'H01', 'Total income', 'Financial performance', '691859', 'ANZSIC06 divisions A-S (excluding classes K6330, L6711, O7552, O760, O771, O772, S9540, S9601, S9602, and S9603)']]\n"
     ]
    }
   ],
   "source": [
    "print(col_titles)"
   ]
  },
  {
   "cell_type": "markdown",
   "metadata": {},
   "source": [
    "### Expected result:\n",
    "```\n",
    "[['Year', 'Industry_aggregation_NZSIOC', 'Industry_code_NZSIOC', 'Industry_name_NZSIOC', 'Units', 'Variable_code', 'Variable_name', 'Variable_category', 'Value', 'Industry_code_ANZSIC06']]\n",
    "```"
   ]
  },
  {
   "cell_type": "code",
   "execution_count": 35,
   "metadata": {},
   "outputs": [
    {
     "name": "stdout",
     "output_type": "stream",
     "text": [
      "[['Year', 'Industry_aggregation_NZSIOC', 'Industry_code_NZSIOC', 'Industry_name_NZSIOC', 'Units', 'Variable_code', 'Variable_name', 'Variable_category', 'Value', 'Industry_code_ANZSIC06'], ['2018', 'Level 1', '99999', 'All industries', 'Dollars (millions)', 'H01', 'Total income', 'Financial performance', '691859', 'ANZSIC06 divisions A-S (excluding classes K6330, L6711, O7552, O760, O771, O772, S9540, S9601, S9602, and S9603)'], ['2018', 'Level 1', '99999', 'All industries', 'Dollars (millions)', 'H04', 'Sales, government funding, grants and subsidies', 'Financial performance', '605766', 'ANZSIC06 divisions A-S (excluding classes K6330, L6711, O7552, O760, O771, O772, S9540, S9601, S9602, and S9603)'], ['2018', 'Level 1', '99999', 'All industries', 'Dollars (millions)', 'H05', 'Interest, dividends and donations', 'Financial performance', '63509', 'ANZSIC06 divisions A-S (excluding classes K6330, L6711, O7552, O760, O771, O772, S9540, S9601, S9602, and S9603)'], ['2018', 'Level 1', '99999', 'All industries', 'Dollars (millions)', 'H07', 'Non-operating income', 'Financial performance', '22583', 'ANZSIC06 divisions A-S (excluding classes K6330, L6711, O7552, O760, O771, O772, S9540, S9601, S9602, and S9603)']]\n"
     ]
    }
   ],
   "source": [
    "print(data[:5])"
   ]
  },
  {
   "cell_type": "markdown",
   "metadata": {},
   "source": [
    "### Expected result:\n",
    "```\n",
    "[['2018', 'Level 1', '99999', 'All industries', 'Dollars (millions)', 'H01', 'Total income', 'Financial performance', '691859', 'ANZSIC06 divisions A-S (excluding classes K6330, L6711, O7552, O760, O771, O772, S9540, S9601, S9602, and S9603)'], ['2018', 'Level 1', '99999', 'All industries', 'Dollars (millions)', 'H04', 'Sales, government funding, grants and subsidies', 'Financial performance', '605766', 'ANZSIC06 divisions A-S (excluding classes K6330, L6711, O7552, O760, O771, O772, S9540, S9601, S9602, and S9603)'], ['2018', 'Level 1', '99999', 'All industries', 'Dollars (millions)', 'H05', 'Interest, dividends and donations', 'Financial performance', '63509', 'ANZSIC06 divisions A-S (excluding classes K6330, L6711, O7552, O760, O771, O772, S9540, S9601, S9602, and S9603)'], ['2018', 'Level 1', '99999', 'All industries', 'Dollars (millions)', 'H07', 'Non-operating income', 'Financial performance', '22583', 'ANZSIC06 divisions A-S (excluding classes K6330, L6711, O7552, O760, O771, O772, S9540, S9601, S9602, and S9603)'], ['2018', 'Level 1', '99999', 'All industries', 'Dollars (millions)', 'H08', 'Total expenditure', 'Financial performance', '597623', 'ANZSIC06 divisions A-S (excluding classes K6330, L6711, O7552, O760, O771, O772, S9540, S9601, S9602, and S9603)']]\n",
    "```"
   ]
  },
  {
   "cell_type": "code",
   "execution_count": 36,
   "metadata": {},
   "outputs": [
    {
     "name": "stdout",
     "output_type": "stream",
     "text": [
      "[['2013', 'Level 3', 'ZZ11', 'Food product manufacturing', 'Percentage', 'H37', 'Quick ratio', 'Financial ratios', '52', 'ANZSIC06 groups C111, C112, C113, C114, C115, C116, C117, C118, and C119'], ['2013', 'Level 3', 'ZZ11', 'Food product manufacturing', 'Percentage', 'H38', 'Margin on sales of goods for resale', 'Financial ratios', '40', 'ANZSIC06 groups C111, C112, C113, C114, C115, C116, C117, C118, and C119'], ['2013', 'Level 3', 'ZZ11', 'Food product manufacturing', 'Percentage', 'H39', 'Return on equity', 'Financial ratios', '12', 'ANZSIC06 groups C111, C112, C113, C114, C115, C116, C117, C118, and C119'], ['2013', 'Level 3', 'ZZ11', 'Food product manufacturing', 'Percentage', 'H40', 'Return on total assets', 'Financial ratios', '5', 'ANZSIC06 groups C111, C112, C113, C114, C115, C116, C117, C118, and C119'], ['2013', 'Level 3', 'ZZ11', 'Food product manufacturing', 'Percentage', 'H41', 'Liabilities structure', 'Financial ratios', '46', 'ANZSIC06 groups C111, C112, C113, C114, C115, C116, C117, C118, and C119']]\n"
     ]
    }
   ],
   "source": [
    "print(data[-5:])"
   ]
  },
  {
   "cell_type": "markdown",
   "metadata": {},
   "source": [
    "### Expected result:\n",
    "```\n",
    "[['2013', 'Level 3', 'ZZ11', 'Food product manufacturing', 'Percentage', 'H37', 'Quick ratio', 'Financial ratios', '52', 'ANZSIC06 groups C111, C112, C113, C114, C115, C116, C117, C118, and C119'], ['2013', 'Level 3', 'ZZ11', 'Food product manufacturing', 'Percentage', 'H38', 'Margin on sales of goods for resale', 'Financial ratios', '40', 'ANZSIC06 groups C111, C112, C113, C114, C115, C116, C117, C118, and C119'], ['2013', 'Level 3', 'ZZ11', 'Food product manufacturing', 'Percentage', 'H39', 'Return on equity', 'Financial ratios', '12', 'ANZSIC06 groups C111, C112, C113, C114, C115, C116, C117, C118, and C119'], ['2013', 'Level 3', 'ZZ11', 'Food product manufacturing', 'Percentage', 'H40', 'Return on total assets', 'Financial ratios', '5', 'ANZSIC06 groups C111, C112, C113, C114, C115, C116, C117, C118, and C119'], ['2013', 'Level 3', 'ZZ11', 'Food product manufacturing', 'Percentage', 'H41', 'Liabilities structure', 'Financial ratios', '46', 'ANZSIC06 groups C111, C112, C113, C114, C115, C116, C117, C118, and C119']]\n",
    "```"
   ]
  },
  {
   "cell_type": "markdown",
   "metadata": {},
   "source": [
    "----\n",
    "### 1. Calculate how many different levels of aggregation of the industry exist (Industry_aggregation_NZSIOC)"
   ]
  },
  {
   "cell_type": "code",
   "execution_count": 48,
   "metadata": {},
   "outputs": [],
   "source": [
    "unique_levels = set()\n",
    "for row in data[2:]:\n",
    "    unique_levels.add (row[col_titles[0].index (\"Industry_aggregation_NZSIOC\")])"
   ]
  },
  {
   "cell_type": "code",
   "execution_count": 49,
   "metadata": {},
   "outputs": [
    {
     "name": "stdout",
     "output_type": "stream",
     "text": [
      "{'Level 4', 'Level 1', 'Level 3'}\n",
      "3\n"
     ]
    }
   ],
   "source": [
    "print(unique_levels)\n",
    "print(len(unique_levels))"
   ]
  },
  {
   "cell_type": "markdown",
   "metadata": {},
   "source": [
    "### Expected result:\n",
    "```\n",
    "{'Level 4', 'Level 3', 'Level 1'}\n",
    "3\n",
    "```"
   ]
  },
  {
   "cell_type": "markdown",
   "metadata": {},
   "source": [
    "### 2. Calculate how many different industries (Industry_name_nzsioc) exist, and return the list of these unique industries."
   ]
  },
  {
   "cell_type": "code",
   "execution_count": 45,
   "metadata": {},
   "outputs": [],
   "source": [
    "unique_industries = set()\n",
    "for row in data[2:]:\n",
    "    unique_industries.add (row[col_titles[0].index (\"Industry_name_NZSIOC\")])"
   ]
  },
  {
   "cell_type": "code",
   "execution_count": 46,
   "metadata": {},
   "outputs": [
    {
     "name": "stdout",
     "output_type": "stream",
     "text": [
      "{'Banking and Financing', 'Water, Sewerage, Drainage and Waste Services', 'Other Manufacturing', 'Civil, Professional and Other Interest Groups', 'Basic Material Wholesaling', 'Other Services', 'Machinery Manufacturing', 'Non-Residential Property Operation', 'Food and Beverage Services', 'Insurance', 'Rental, Hiring and Real Estate Services', 'Property Operators and Real Estate Services', 'Arts and Recreation Services', 'Pulp, Paper and Converted Paper Product Manufacturing', 'Non-Financial Asset Leasing', 'School Education', 'Non-Residential Building Construction', 'Building Construction', 'Petroleum and Coal Product Manufacturing', 'Preschool Education', 'Personal Care, Funeral and Other Personal Services', 'Adult, Community and Other Education', 'Heavy and Civil Engineering Construction', 'Non-Store and Commission Based Retailing', 'Hospitals', 'Polymer Product and Rubber Product Manufacturing', 'Rental and Hiring Services (except Real Estate)', 'Information Media Services', 'Non-Metallic Mineral Product Manufacturing', 'Scientific, Architectural and Engineering Services', 'Gambling Activities', 'Agriculture, Forestry and Fishing', 'Manufacturing', 'Basic Chemical and Basic Polymer Manufacturing', 'Residential Building Construction', 'Recreational, Clothing, Footwear and Personal Accessory Retailing', 'Arts, Recreation and Other Services', 'Rail, Water, Air and Other Transport', 'Heritage and Artistic Activities', 'Construction', 'Sport and Recreation Activities', 'All industries', 'Other Store-Based Retailing and Non Store Retailing', 'Furniture and Other Manufacturing', 'Telecommunications, Internet and Library Services', 'Postal, Courier, Transport Support, and Warehousing Services', 'Dairy Cattle Farming', 'Horticulture and Fruit Growing', 'Machinery and Other Equipment Manufacturing', 'Repair and Maintenance', 'Printing', 'Legal and Accounting Services', 'Warehousing and Storage Services', 'Pharmaceutical and Other Store Based Retailing', 'Commission Based Wholesaling', 'Professional, Scientific and Technical Services', 'Medical and Other Health Care Services', 'Department Stores', 'Wholesale Trade', 'Retail Trade and Accommodation', 'Professional, Scientific, Technical, Administrative and Support Services', 'Fertiliser and Pesticide Manufacturing', 'Public Order, Safety and Regulatory Services', 'Furniture, Electrical and Hardware Retailing', 'Tertiary Education', 'Sheep, Beef Cattle and Grain Farming', 'Supermarket, Grocery Stores and Specialised Food Retailing', 'Financial Asset Investing', 'Textile, Leather, Clothing and Footwear Manufacturing', 'Computer System Design and Related Services', 'Electricity, Gas, Water and Waste Services', 'Electricity and Gas Supply', 'Transport, Postal and Warehousing', 'Life Insurance', 'Veterinary and Other Professional Services', 'Electronic and Electrical Equipment Manufacturing', 'Accommodation and Food Services', 'Textile and Leather Manufacturing', 'Education and Training', 'Basic Chemical and Chemical Product Manufacturing', 'Information Media and Telecommunications', 'Public order, safety and regulatory services', 'Health and General Insurance', 'Transport Equipment Manufacturing', 'Advertising, Market Research and Management Services', 'Furniture Manufacturing', 'Road Transport', 'Transport Support Services', 'Machinery and Equipment Wholesaling', 'Postal and Courier Pick Up and Delivery Services', 'Agriculture, Forestry and Fishing Support Services and Hunting', 'Real Estate Services', 'Administrative and Support Services', 'Food product manufacturing', 'Other Goods Wholesaling', 'Fishing and Aquaculture', 'Residential Care Services and Social Assistance', 'Forestry and Logging', 'Pharmaceutical, Cleaning and Other Chemical Manufacturing', 'Clothing, Knitted Products and Footwear Manufacturing', 'Motor Vehicle and Motor Vehicle Parts and Fuel Retailing', 'Construction Services', 'Employment and Other Administrative Services', 'Primary Metal and Metal Product Manufacturing', 'Motor Vehicle and Motor Vehicle Parts Wholesaling', 'Beverage and Tobacco Product Manufacturing', 'Building Cleaning, Pest Control and Other Support Services', 'Financial and Insurance Services', 'Health Care and Social Assistance', 'Poultry, Deer and Other Livestock Farming', 'Travel Agency and Tour Arrangement Services', 'Auxiliary Finance and Insurance Services', 'Accommodation', 'Fabricated Metal Product Manufacturing', 'Grocery, Liquor and Tobacco Product Wholesaling', 'Food Product Manufacturing', 'Mining', 'Finance', 'Wood Product Manufacturing'}\n",
      "119\n"
     ]
    }
   ],
   "source": [
    "print(unique_industries)\n",
    "print(len(unique_industries))"
   ]
  },
  {
   "cell_type": "markdown",
   "metadata": {},
   "source": [
    "### Expected result:\n",
    "```\n",
    "{'Electricity, Gas, Water and Waste Services', 'Insurance', 'Recreational, Clothing, Footwear and Personal Accessory Retailing', 'Auxiliary Finance and Insurance Services', 'Non-Financial Asset Leasing', 'Education and Training', 'Textile and Leather Manufacturing', 'Commission Based Wholesaling', 'Financial and Insurance Services', 'Supermarket, Grocery Stores and Specialised Food Retailing', 'Information Media and Telecommunications', 'Legal and Accounting Services', 'Hospitals', 'Basic Chemical and Chemical Product Manufacturing', 'Motor Vehicle and Motor Vehicle Parts Wholesaling', 'Transport, Postal and Warehousing', 'Other Goods Wholesaling', 'Machinery Manufacturing', 'Food and Beverage Services', 'Health and General Insurance', 'Sport and Recreation Activities', 'Horticulture and Fruit Growing', 'Travel Agency and Tour Arrangement Services', 'Petroleum and Coal Product Manufacturing', 'Sheep, Beef Cattle and Grain Farming', 'Professional, Scientific, Technical, Administrative and Support Services', 'Non-Residential Building Construction', 'Heritage and Artistic Activities', 'Dairy Cattle Farming', 'Food Product Manufacturing', 'Mining', 'Financial Asset Investing', 'Clothing, Knitted Products and Footwear Manufacturing', 'Basic Chemical and Basic Polymer Manufacturing', 'Wholesale Trade', 'Agriculture, Forestry and Fishing', 'Personal Care, Funeral and Other Personal Services', 'Transport Equipment Manufacturing', 'All industries', 'Rental and Hiring Services (except Real Estate)', 'Property Operators and Real Estate Services', 'Heavy and Civil Engineering Construction', 'Food product manufacturing', 'Construction Services', 'Machinery and Other Equipment Manufacturing', 'Other Services', 'Banking and Financing', 'Health Care and Social Assistance', 'Information Media Services', 'Electronic and Electrical Equipment Manufacturing', 'Gambling Activities', 'Employment and Other Administrative Services', 'Warehousing and Storage Services', 'Retail Trade and Accommodation', 'Finance', 'Water, Sewerage, Drainage and Waste Services', 'Arts and Recreation Services', 'Road Transport', 'Printing', 'Furniture and Other Manufacturing', 'Furniture, Electrical and Hardware Retailing', 'Residential Care Services and Social Assistance', 'Civil, Professional and Other Interest Groups', 'Life Insurance', 'Building Construction', 'Other Manufacturing', 'Accommodation', 'Rail, Water, Air and Other Transport', 'Telecommunications, Internet and Library Services', 'Manufacturing', 'Motor Vehicle and Motor Vehicle Parts and Fuel Retailing', 'Beverage and Tobacco Product Manufacturing', 'Primary Metal and Metal Product Manufacturing', 'Preschool Education', 'Fabricated Metal Product Manufacturing', 'Public Order, Safety and Regulatory Services', 'Wood Product Manufacturing', 'Poultry, Deer and Other Livestock Farming', 'School Education', 'Administrative and Support Services', 'Non-Residential Property Operation', 'Repair and Maintenance', 'Polymer Product and Rubber Product Manufacturing', 'Accommodation and Food Services', 'Pulp, Paper and Converted Paper Product Manufacturing', 'Residential Building Construction', 'Adult, Community and Other Education', 'Non-Metallic Mineral Product Manufacturing', 'Pharmaceutical, Cleaning and Other Chemical Manufacturing', 'Non-Store and Commission Based Retailing', 'Rental, Hiring and Real Estate Services', 'Fertiliser and Pesticide Manufacturing', 'Electricity and Gas Supply', 'Forestry and Logging', 'Furniture Manufacturing', 'Pharmaceutical and Other Store Based Retailing', 'Department Stores', 'Transport Support Services', 'Construction', 'Public order, safety and regulatory services', 'Tertiary Education', 'Medical and Other Health Care Services', 'Postal, Courier, Transport Support, and Warehousing Services', 'Basic Material Wholesaling', 'Computer System Design and Related Services', 'Arts, Recreation and Other Services', 'Postal and Courier Pick Up and Delivery Services', 'Real Estate Services', 'Advertising, Market Research and Management Services', 'Veterinary and Other Professional Services', 'Fishing and Aquaculture', 'Machinery and Equipment Wholesaling', 'Professional, Scientific and Technical Services', 'Grocery, Liquor and Tobacco Product Wholesaling', 'Other Store-Based Retailing and Non Store Retailing', 'Agriculture, Forestry and Fishing Support Services and Hunting', 'Building Cleaning, Pest Control and Other Support Services', 'Textile, Leather, Clothing and Footwear Manufacturing', 'Scientific, Architectural and Engineering Services'}\n",
    "119\n",
    "```"
   ]
  },
  {
   "cell_type": "markdown",
   "metadata": {},
   "source": [
    "### 3. Create new CSV files containing data only in the same year. Example: 2018.csv, 2017.csv, etc."
   ]
  },
  {
   "cell_type": "code",
   "execution_count": 52,
   "metadata": {},
   "outputs": [
    {
     "name": "stdout",
     "output_type": "stream",
     "text": [
      "{'2017', '2018', '2013', '2016', '2015', '2014'}\n"
     ]
    }
   ],
   "source": [
    "unique_years = set()\n",
    "row_year_index = col_titles[0].index (\"Year\")\n",
    "for row in data[2:]:\n",
    "    unique_years.add (row [row_year_index])\n",
    "print(unique_years)"
   ]
  },
  {
   "cell_type": "markdown",
   "metadata": {},
   "source": [
    "### Expected result:\n",
    "```\n",
    "{'2013', '2018', '2017', '2014', '2016', '2015'}\n",
    "```"
   ]
  },
  {
   "cell_type": "code",
   "execution_count": 61,
   "metadata": {},
   "outputs": [
    {
     "name": "stdout",
     "output_type": "stream",
     "text": [
      "2017.csv is written\n",
      "2018.csv is written\n",
      "2013.csv is written\n",
      "2016.csv is written\n",
      "2015.csv is written\n",
      "2014.csv is written\n"
     ]
    }
   ],
   "source": [
    "for year in unique_years:\n",
    "    with open(\"{}.csv\".format(year), \"w\") as ofile:\n",
    "        for row in data:\n",
    "            ofile.write (','.join (row) + '\\n')\n",
    "        print(\"{}.csv is written\".format(year))"
   ]
  },
  {
   "cell_type": "markdown",
   "metadata": {},
   "source": [
    "### Expected result:\n",
    "```\n",
    "2013.csv is written\n",
    "2018.csv is written\n",
    "2017.csv is written\n",
    "2014.csv is written\n",
    "2016.csv is written\n",
    "2015.csv is written\n",
    "```"
   ]
  },
  {
   "cell_type": "code",
   "execution_count": 62,
   "metadata": {},
   "outputs": [
    {
     "name": "stdout",
     "output_type": "stream",
     "text": [
      "['2013.csv', '2014.csv', '2015.csv', '2016.csv', '2017.csv', '2018.csv', 'annual-enterprise-survey-2018-financial-year-provisional-csv.csv']\n"
     ]
    }
   ],
   "source": [
    "import os\n",
    "\n",
    "list_of_files = [file for file in os.listdir(\"./\") if file.endswith(\".csv\")]\n",
    "print(list_of_files)"
   ]
  },
  {
   "cell_type": "markdown",
   "metadata": {},
   "source": [
    "### Expected result:\n",
    "```\n",
    "['2018.csv', '2015.csv', '2014.csv', '2016.csv', '2017.csv', '2013.csv', 'annual-enterprise-survey-2018-financial-year-provisional-csv.csv']\n",
    "```\n",
    "\n",
    "\n",
    "** Please open the CSV files you just created and check whether the year in these files with the file name coincides. **"
   ]
  },
  {
   "cell_type": "markdown",
   "metadata": {},
   "source": [
    "### 4. Additionally: just try to analyze more data from the CSV file using all your knowledge. Example: sorting data on a specific column."
   ]
  },
  {
   "cell_type": "code",
   "execution_count": 64,
   "metadata": {},
   "outputs": [
    {
     "ename": "KeyboardInterrupt",
     "evalue": "",
     "output_type": "error",
     "traceback": [
      "\u001b[1;31m---------------------------------------------------------------------------\u001b[0m",
      "\u001b[1;31mKeyboardInterrupt\u001b[0m                         Traceback (most recent call last)",
      "Cell \u001b[1;32mIn[64], line 4\u001b[0m\n\u001b[0;32m      2\u001b[0m \u001b[38;5;28;01mfor\u001b[39;00m i \u001b[38;5;129;01min\u001b[39;00m \u001b[38;5;28mrange\u001b[39m (\u001b[38;5;28mlen\u001b[39m (data)):\n\u001b[0;32m      3\u001b[0m     \u001b[38;5;28;01mfor\u001b[39;00m j \u001b[38;5;129;01min\u001b[39;00m \u001b[38;5;28mrange\u001b[39m (i \u001b[38;5;241m+\u001b[39m \u001b[38;5;241m1\u001b[39m, \u001b[38;5;28mlen\u001b[39m (data)):\n\u001b[1;32m----> 4\u001b[0m         \u001b[38;5;28;01mif\u001b[39;00m (data [i][index_search_row] \u001b[38;5;241m>\u001b[39m data [i][index_search_row]):\n\u001b[0;32m      5\u001b[0m             tmp \u001b[38;5;241m=\u001b[39m data [i][index_search_row]\n\u001b[0;32m      6\u001b[0m             data [i][index_search_row] \u001b[38;5;241m=\u001b[39m data [j][index_search_row]\n",
      "\u001b[1;31mKeyboardInterrupt\u001b[0m: "
     ]
    }
   ],
   "source": [
    "index_search_row = data[0].index (\"Value\")\n",
    "for i in range (len (data)):\n",
    "    for j in range (i + 1, len (data)):\n",
    "        if (data [i][index_search_row] > data [i][index_search_row]):\n",
    "            tmp = data [i][index_search_row]\n",
    "            data [i][index_search_row] = data [j][index_search_row]\n",
    "            data [j][index_search_row] = tmp"
   ]
  }
 ],
 "metadata": {
  "kernelspec": {
   "display_name": "Python 3",
   "language": "python",
   "name": "python3"
  },
  "language_info": {
   "codemirror_mode": {
    "name": "ipython",
    "version": 3
   },
   "file_extension": ".py",
   "mimetype": "text/x-python",
   "name": "python",
   "nbconvert_exporter": "python",
   "pygments_lexer": "ipython3",
   "version": "3.12.1"
  }
 },
 "nbformat": 4,
 "nbformat_minor": 2
}
